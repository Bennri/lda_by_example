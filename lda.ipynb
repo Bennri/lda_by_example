{
 "cells": [
  {
   "cell_type": "markdown",
   "metadata": {},
   "source": [
    "# Linear Discriminant Analysis (LDA)\n",
    "### Supervised dimensionality reduction using an example"
   ]
  },
  {
   "cell_type": "markdown",
   "metadata": {},
   "source": [
    "* used dataset: Statlog (Vehicle Silhouettes) https://archive.ics.uci.edu/ml/datasets/Statlog+%28Vehicle+Silhouettes%29, Turing Institute, Glasgow, Scotland. Statlog Data Set. Feb. 13, 1993.\n",
    "* implementation based on an university assignment I had to turn in\n",
    "* some background on LDA: http://research.cs.tamu.edu/prism/lectures/pr/pr_l10.pdf\n",
    "* function ```create_surface_plot``` based on https://scikit-learn.org/stable/auto_examples/ensemble/plot_voting_decision_regions.html with little modifications"
   ]
  },
  {
   "cell_type": "code",
   "execution_count": 1,
   "metadata": {},
   "outputs": [],
   "source": [
    "import numpy as np\n",
    "import pandas as pd\n",
    "import matplotlib.pyplot as plt\n",
    "import seaborn as sns\n",
    "# from pprint import pprint\n",
    "%matplotlib inline"
   ]
  },
  {
   "cell_type": "code",
   "execution_count": 2,
   "metadata": {},
   "outputs": [],
   "source": [
    "from pprint import pprint\n",
    "from sklearn import svm\n",
    "from sklearn.metrics import confusion_matrix\n",
    "import glob\n",
    "import csv"
   ]
  },
  {
   "cell_type": "code",
   "execution_count": 3,
   "metadata": {},
   "outputs": [],
   "source": [
    "plt.rcParams.update({'font.size': 14, 'figure.figsize': (12,8)})"
   ]
  },
  {
   "cell_type": "code",
   "execution_count": 4,
   "metadata": {},
   "outputs": [],
   "source": [
    "np.random.seed(23)"
   ]
  },
  {
   "cell_type": "markdown",
   "metadata": {},
   "source": [
    "First of all, I downloaded the dataset Statlog (Vehicle Silhouettes) from https://archive.ics.uci.edu/ml/datasets/Statlog+%28Vehicle+Silhouettes%29, the files are stored in the folder ``origin_data_files``. \n",
    "To split the data differently as needed, I created a function called ```concat_data_chunks(...)``` to concatenate the data."
   ]
  },
  {
   "cell_type": "code",
   "execution_count": 5,
   "metadata": {},
   "outputs": [],
   "source": [
    "def concat_data_chunks(file_list, header, delimiter=' '):\n",
    "    \"\"\"\n",
    "    Receives a list of filenames, true if a header is present and the delimiter of the data within the files.\n",
    "    The data will be read in as CSV via the modul pandas. \n",
    "    \n",
    "    Returns the data and the corresponding labels. \n",
    "    \"\"\"\n",
    "    data_list = [pd.read_csv(f_name, delim_whitespace=True, header=header) for f_name in file_list]\n",
    "    data = []\n",
    "    labels = []\n",
    "    for l in data_list:\n",
    "        data.append(l.iloc[:,:-1].values)\n",
    "        labels.append(l.iloc[:,-1].values)\n",
    "    data = np.vstack(data)\n",
    "    labels = np.hstack(labels)\n",
    "    d = np.append(data, labels.reshape(-1,1), axis=1)\n",
    "    np.random.shuffle(d)\n",
    "    data = d[:,:-1]\n",
    "    labels = d[:,-1]\n",
    "    return data, labels"
   ]
  },
  {
   "cell_type": "code",
   "execution_count": 6,
   "metadata": {},
   "outputs": [],
   "source": [
    "def string_labels_to_number(labels, order=None):\n",
    "    \"\"\"\n",
    "    Converts string labels to numerical values. \n",
    "    Class label and a corresponding number may be provided as a list of tuples\n",
    "    where a tuple is (class_name, number). If not, the order is created based\n",
    "    on the distinct class names.\n",
    "    \n",
    "    Returns the numerical labels, a list of the unique class names and a list of \n",
    "    corresponding numbers where each number represents a class.\n",
    "    \"\"\"\n",
    "    if order and type(order[0]) == tuple:\n",
    "        unique_classes = [x[0] for x in order]\n",
    "        unique_numbers = [x[1] for x in order]\n",
    "    elif order:\n",
    "        print('Given order list does not contain tuples in form of (class_label, number). Creating order from data...')\n",
    "        unique_classes = list(set(labels))\n",
    "        unique_numbers = list(range(1,len(unique_classes)+1))\n",
    "    else:\n",
    "        unique_classes = list(set(labels))\n",
    "        unique_numbers = list(range(1,len(unique_classes)+1))\n",
    "    labels_n = np.zeros((labels.shape))\n",
    "    idx_of_classes = [np.where(labels==c)[0].tolist() for c in unique_classes]\n",
    "    for i, e in enumerate(idx_of_classes):\n",
    "        labels_n[e] = unique_numbers[i]\n",
    "    return np.array(labels_n), unique_classes, unique_numbers"
   ]
  },
  {
   "cell_type": "markdown",
   "metadata": {},
   "source": [
    "Get the filenames and concatenate the data:"
   ]
  },
  {
   "cell_type": "code",
   "execution_count": 7,
   "metadata": {},
   "outputs": [],
   "source": [
    "file_names = glob.glob('origin_data_files/*')\n",
    "data, labels = concat_data_chunks(file_names, header=None)"
   ]
  },
  {
   "cell_type": "code",
   "execution_count": 8,
   "metadata": {},
   "outputs": [],
   "source": [
    "# providing an order for the conversion of string labels to numerical values\n",
    "class_number_pairs = [('opel', 1), ('saab', 2), ('bus', 3), ('van', 4)]"
   ]
  },
  {
   "cell_type": "markdown",
   "metadata": {},
   "source": [
    "Conversion of string labels to numbers:"
   ]
  },
  {
   "cell_type": "code",
   "execution_count": 9,
   "metadata": {},
   "outputs": [],
   "source": [
    "labels_n, class_names, class_numbers = string_labels_to_number(labels, order=class_number_pairs)"
   ]
  },
  {
   "cell_type": "markdown",
   "metadata": {},
   "source": [
    "For supervision purpose:"
   ]
  },
  {
   "cell_type": "code",
   "execution_count": 10,
   "metadata": {},
   "outputs": [],
   "source": [
    "class_names_number = list(zip(class_names, class_numbers))"
   ]
  },
  {
   "cell_type": "code",
   "execution_count": 11,
   "metadata": {},
   "outputs": [
    {
     "name": "stdout",
     "output_type": "stream",
     "text": [
      "Class name and its corresponding number: opel -> 1\n",
      "Class name and its corresponding number: saab -> 2\n",
      "Class name and its corresponding number: bus -> 3\n",
      "Class name and its corresponding number: van -> 4\n"
     ]
    }
   ],
   "source": [
    "for tup in class_names_number:\n",
    "    print('Class name and its corresponding number: {} -> {}'.format(tup[0], tup[1]))"
   ]
  },
  {
   "cell_type": "markdown",
   "metadata": {},
   "source": [
    "#### Data distribution - number of samples within each class"
   ]
  },
  {
   "cell_type": "code",
   "execution_count": 12,
   "metadata": {},
   "outputs": [
    {
     "data": {
      "image/png": "[encoded data removed]",
      "text/plain": [
       "<Figure size 864x576 with 1 Axes>"
      ]
     },
     "metadata": {
      "needs_background": "light"
     },
     "output_type": "display_data"
    }
   ],
   "source": [
    "amount_samples = [len(labels_n[labels_n==i]) for i in class_numbers]\n",
    "\n",
    "fig = plt.figure()\n",
    "ax = fig.add_subplot(1, 1, 1) # nrows, ncols, index\n",
    "ax.bar(class_numbers, amount_samples)\n",
    "ax.set_xticks(class_numbers)\n",
    "ax.set_yticks(range(0,max(amount_samples)+10,10))\n",
    "ax.set_xticklabels((class_names))\n",
    "ax.set_ylabel('number of samples')\n",
    "ax.set_title('number of samples in each class')\n",
    "plt.show()"
   ]
  },
  {
   "cell_type": "code",
   "execution_count": 13,
   "metadata": {},
   "outputs": [],
   "source": [
    "def split_data(data, labels_n, split=9, test_part=1, dtype=np.float64):\n",
    "    \n",
    "    train_data_idx = int(data.shape[0] / split * (split - test_part))\n",
    "    \n",
    "    train_data = data[:train_data_idx, :]\n",
    "    train_labels = labels_n[:train_data_idx]\n",
    "    \n",
    "    test_data = data[train_data_idx:,:]\n",
    "    test_labels = labels_n[train_data_idx:]\n",
    "    \n",
    "    return train_data, train_labels, test_data, test_labels"
   ]
  },
  {
   "cell_type": "code",
   "execution_count": 14,
   "metadata": {},
   "outputs": [],
   "source": [
    "def write_csv_file(data, filename, delimiter=','):\n",
    "    with open(filename + '.csv', mode='w') as csv_file:\n",
    "        data_writer = csv.writer(csv_file, delimiter=delimiter)\n",
    "        for row in data:\n",
    "            data_writer.writerow(row)"
   ]
  },
  {
   "cell_type": "code",
   "execution_count": 15,
   "metadata": {},
   "outputs": [],
   "source": [
    "train_data, train_label, test_data, test_labels = split_data(data, labels_n)"
   ]
  },
  {
   "cell_type": "code",
   "execution_count": 16,
   "metadata": {},
   "outputs": [],
   "source": [
    "training_data_l = np.append(train_data, train_label.reshape(-1,1), axis=1).astype(np.int32)\n",
    "test_data_l = np.append(test_data, test_labels.reshape(-1,1), axis=1).astype(np.int32)"
   ]
  },
  {
   "cell_type": "code",
   "execution_count": 17,
   "metadata": {},
   "outputs": [],
   "source": [
    "write_csv_file(training_data_l, 'new_train')\n",
    "write_csv_file(test_data_l, 'new_test')"
   ]
  },
  {
   "cell_type": "markdown",
   "metadata": {},
   "source": [
    "# Linear Discriminant Analysis with more than 2 classes"
   ]
  },
  {
   "cell_type": "markdown",
   "metadata": {},
   "source": [
    "Generalization of the within-class scatter matrix for classes > 2:\n",
    "\n",
    "$$S_W = \\Sigma = \\sum\\limits_{i=1}^{C} \\Sigma_i$$\n",
    "\n",
    "which means adding up all (total) covariance matrices from each class (mind the missing fraction). For a more clear view:\n",
    "\n",
    "$$\\Sigma_i = \\sum\\limits_{x_k \\in C_i}^{} (x_k - m_i)(x_k - m_i)^T$$\n",
    "\n",
    "where $x_k$ is a data point in class $C_i$ and $m_i$ is the mean vector of class $C_i$.\n",
    "\n",
    "The between-class matrix is adjust by the concept of maximizing the mean value $\\mu_i$ from each class which creates an overall mean value $\\mu$ based on all observations. \n",
    "The overall mean value $\\mu$ is computed as follows:\n",
    "\n",
    "$$\\mu = \\frac{1}{C} \\sum\\limits_{c=1}^{C}\\mu_c$$\n",
    "\n",
    "\n",
    "\n",
    "After the computed overall mean value, the between-class matrix is computed as below:\n",
    "\n",
    "$$S_B = \\sum\\limits_{i=1}^{C} N_i (\\mu_i - \\mu)(\\mu_i - \\mu)^T$$\n",
    "\n",
    "where $N_i$ is the number of points of a class $C_i$ which is used to weight each matrix. "
   ]
  },
  {
   "cell_type": "markdown",
   "metadata": {},
   "source": [
    "## LDA Implementation"
   ]
  },
  {
   "cell_type": "code",
   "execution_count": 18,
   "metadata": {},
   "outputs": [],
   "source": [
    "def LDA(data, labels):\n",
    "# assumation: observations are in rows and features are in columns\n",
    "    n_features = data.shape[1]\n",
    "    class_labels = list(set(labels))  # possible labels\n",
    "    n_classes = len(class_labels)\n",
    "    S_W = np.zeros((n_features, n_features))\n",
    "    S_B = np.zeros((n_features, n_features))\n",
    "    \n",
    "    # list of lists where the first dimemsion corresponds to the class\n",
    "    # and the second dimension holds the indices where the class in the data array occurs\n",
    "    idx_of_classes = [np.where(labels==c)[0].tolist() for c in class_labels]\n",
    "\n",
    "    # array of mean values along all features and all observations, results in a (n_features, ) array\n",
    "    overall_mean_data = np.mean(data, axis=0)\n",
    "    \n",
    "    for i, idx_class in enumerate(idx_of_classes):\n",
    "        # S_W += (len(data[idx_class]) - 1) * np.cov(data[idx_class].transpose())\n",
    "        \n",
    "        # calculation of S_W -> dim: (n_features, n_features)\n",
    "        S_W += (len(data[idx_class]) - 1) * np.cov(data[idx_class], rowvar=False)\n",
    "        \n",
    "        # class mean minus overall mean\n",
    "        v = (np.mean(data[idx_class,:], axis=0) - overall_mean_data).reshape(-1,1)\n",
    "        \n",
    "        # calculation of S_W by summing up all outer products of v weighted with the amount\n",
    "        # of observations within the class\n",
    "        S_B += data[idx_of_classes[i]].shape[0] * np.outer(v,v)\n",
    "\n",
    "    # dimension: (n_features, n_features)\n",
    "    S_W_inv = np.linalg.pinv(S_W)\n",
    "    \n",
    "    # dimension: (n_features, n_features)\n",
    "    S_W_inv_S_B = np.matmul(S_W_inv, S_B)\n",
    "    \n",
    "    # compute eigenvalues w and eigenvectors v of the matrix S_W_inv_S_B\n",
    "    eig_vals, eig_vecs = np.linalg.eig(S_W_inv_S_B)\n",
    "\n",
    "\n",
    "    # sort eigenvalues descending and store the indices\n",
    "    sorted_indices = np.argsort(eig_vals)[::-1]\n",
    "    # sort eigenvalues and eigenvector according to the descending order of the eigenvalues\n",
    "    eig_vals = eig_vals[sorted_indices]\n",
    "    # eigenvectors, each column of the matrix is an eigenvector as it is stated in the documentation\n",
    "    eig_vecs = eig_vecs[:, sorted_indices]\n",
    "\n",
    "    coefficients = eig_vecs\n",
    "    latents = eig_vals\n",
    "    projections = np.matmul(data, coefficients)\n",
    "    # projections = data.dot(coefficients)  # calculates np.matmul(...) since the dimension of both matrices are identical\n",
    "    return coefficients, projections, latents"
   ]
  },
  {
   "cell_type": "markdown",
   "metadata": {},
   "source": [
    "## Load the data and store it in numpy arrays with type np.float64"
   ]
  },
  {
   "cell_type": "code",
   "execution_count": 19,
   "metadata": {},
   "outputs": [],
   "source": [
    "def load_data(list_of_file_names, delimiter=','):\n",
    "    \"\"\"\n",
    "    No exception handling, if a filename is in correct a crash will occur.\n",
    "    Reads all files specified in the list list_of_file_names. Creates a list\n",
    "    of lists for the loaded data and labels. \n",
    "    For example if you load a train data and a test data file, then the csv_list will \n",
    "    contain to entries. Also, data_list and label_list will hold two entries, the csv\n",
    "    data without the label is contained in data_list, the labels of that correspodning data\n",
    "    is stored in separated lists within label_list.\n",
    "    \"\"\"\n",
    "    csv_data = [np.genfromtxt(f_name, delimiter=delimiter, dtype=np.float64) for f_name in list_of_file_names]\n",
    "    data_list = [data[:,:-1] for data in csv_data]\n",
    "    label_list = [data[:,-1] for data in csv_data]\n",
    "    return data_list, label_list"
   ]
  },
  {
   "cell_type": "markdown",
   "metadata": {},
   "source": [
    "## Specification of filenames and class names"
   ]
  },
  {
   "cell_type": "code",
   "execution_count": 20,
   "metadata": {},
   "outputs": [],
   "source": [
    "file_name_train = 'new_train.csv'\n",
    "file_name_test  = 'new_test.csv'"
   ]
  },
  {
   "cell_type": "code",
   "execution_count": 21,
   "metadata": {},
   "outputs": [],
   "source": [
    "class_names = ['OPEL', 'SAAB', 'BUS', 'VAN']"
   ]
  },
  {
   "cell_type": "code",
   "execution_count": 22,
   "metadata": {},
   "outputs": [],
   "source": [
    "data_l, label_l = load_data([file_name_train, file_name_test])\n",
    "train_data = data_l[0]\n",
    "train_label = label_l[0]\n",
    "test_data = data_l[1]\n",
    "test_label = label_l[1]\n",
    "n_features = train_data.shape[1]"
   ]
  },
  {
   "cell_type": "markdown",
   "metadata": {},
   "source": [
    "## Training Phase"
   ]
  },
  {
   "cell_type": "code",
   "execution_count": 23,
   "metadata": {},
   "outputs": [],
   "source": [
    "coefficients, projections, latents = LDA(train_data, train_label)"
   ]
  },
  {
   "cell_type": "code",
   "execution_count": 24,
   "metadata": {},
   "outputs": [
    {
     "name": "stdout",
     "output_type": "stream",
     "text": [
      "First 3 eigenvalues (adjusted method):\n",
      "array([2.42250681+0.j, 2.01420742+0.j, 0.1627246 +0.j])\n"
     ]
    }
   ],
   "source": [
    "print(\"First 3 eigenvalues (adjusted method):\")\n",
    "pprint(latents[:3])"
   ]
  },
  {
   "cell_type": "code",
   "execution_count": 25,
   "metadata": {},
   "outputs": [
    {
     "name": "stdout",
     "output_type": "stream",
     "text": [
      "Sum of eigenvalues: (4.599438835075605+0j)\n"
     ]
    }
   ],
   "source": [
    "# calculate percentage part of each eigenvalue\n",
    "sum_latent = np.sum(latents)\n",
    "eigenvalues_perc = [np.abs(l/sum_latent) for l in latents]\n",
    "print(\"Sum of eigenvalues: {}\".format(sum_latent))"
   ]
  },
  {
   "cell_type": "markdown",
   "metadata": {},
   "source": [
    "## Percentage explained"
   ]
  },
  {
   "cell_type": "code",
   "execution_count": 26,
   "metadata": {},
   "outputs": [
    {
     "name": "stdout",
     "output_type": "stream",
     "text": [
      "Percentage part of each eigenvalue:\n",
      "[0.5266961679327038,\n",
      " 0.4379246023476674,\n",
      " 0.03537922971963989,\n",
      " 6.302592821759578e-15,\n",
      " 4.0118692540515504e-16,\n",
      " 4.0118692540515504e-16,\n",
      " 1.6599328985757278e-16,\n",
      " 1.1306972593641564e-16,\n",
      " 9.019569051893616e-18,\n",
      " 1.5827050453458238e-16,\n",
      " 1.5827050453458238e-16,\n",
      " 8.358123486372998e-17,\n",
      " 3.411812467797436e-16,\n",
      " 3.411812467797436e-16,\n",
      " 7.939458478402018e-16,\n",
      " 3.422057975480074e-15,\n",
      " 3.422057975480074e-15,\n",
      " 1.4777347529346035e-14]\n"
     ]
    }
   ],
   "source": [
    "print(\"Percentage part of each eigenvalue:\")\n",
    "pprint(eigenvalues_perc)"
   ]
  },
  {
   "cell_type": "markdown",
   "metadata": {},
   "source": [
    "## Choose dimensionality of the new feature space: d=2"
   ]
  },
  {
   "cell_type": "markdown",
   "metadata": {},
   "source": [
    "The first 2 eigenvalues have the heighest value (since they where already sorted). The first eigenvalue is the most important one, since it has the heighest percentage value which is approximately 53.4 \\%."
   ]
  },
  {
   "cell_type": "code",
   "execution_count": 27,
   "metadata": {},
   "outputs": [
    {
     "name": "stdout",
     "output_type": "stream",
     "text": [
      "Eigenvectors d=2:\n",
      "array([[-0.00322105+0.j, -0.16388471+0.j],\n",
      "       [ 0.0329591 +0.j,  0.75240093+0.j],\n",
      "       [-0.01466229+0.j, -0.17836559+0.j],\n",
      "       [-0.16175103+0.j,  0.06871088+0.j],\n",
      "       [ 0.44634288+0.j, -0.16108926+0.j],\n",
      "       [-0.17095302+0.j,  0.06980598+0.j],\n",
      "       [-0.1098777 +0.j,  0.28037769+0.j],\n",
      "       [-0.431429  +0.j, -0.25463419+0.j],\n",
      "       [-0.54754942+0.j,  0.21093686+0.j],\n",
      "       [ 0.04744698+0.j, -0.36722714+0.j],\n",
      "       [ 0.00286464+0.j, -0.02144262+0.j],\n",
      "       [ 0.02754141+0.j, -0.03972198+0.j],\n",
      "       [-0.00105368+0.j, -0.01321539+0.j],\n",
      "       [ 0.05566052+0.j, -0.07467988+0.j],\n",
      "       [-0.07312191+0.j,  0.05390767+0.j],\n",
      "       [ 0.02612959+0.j,  0.03029731+0.j],\n",
      "       [ 0.41713704+0.j, -0.02007832+0.j],\n",
      "       [-0.24477245+0.j, -0.06971183+0.j]])\n"
     ]
    }
   ],
   "source": [
    "print(\"Eigenvectors d=2:\")\n",
    "pprint(coefficients[:,:2])"
   ]
  },
  {
   "cell_type": "markdown",
   "metadata": {},
   "source": [
    "## Train a SVM - use the new dimensional reduced data"
   ]
  },
  {
   "cell_type": "markdown",
   "metadata": {},
   "source": [
    "Reduce the values to real numbers by adding the real and imaginary part. This is done using the following function:"
   ]
  },
  {
   "cell_type": "code",
   "execution_count": 28,
   "metadata": {},
   "outputs": [],
   "source": [
    "def complex_projection_to_real(p):\n",
    "    \"\"\" Adds the imaginary and the real part on an array level.\"\"\"\n",
    "    proj_real = np.real(p)\n",
    "    proj_imag = np.imag(p)\n",
    "    projection_real = np.add(proj_real, proj_imag)\n",
    "    return projection_real"
   ]
  },
  {
   "cell_type": "markdown",
   "metadata": {},
   "source": [
    "Using function above, the real and imaginary part of the projections are added up."
   ]
  },
  {
   "cell_type": "code",
   "execution_count": 29,
   "metadata": {},
   "outputs": [],
   "source": [
    "projection_real = complex_projection_to_real(projections)"
   ]
  },
  {
   "cell_type": "markdown",
   "metadata": {},
   "source": [
    "Since the first and second dimension has the heighest percentage eigenvalues, only this dimensions will be used to test classification. Therefore: $d=2$."
   ]
  },
  {
   "cell_type": "markdown",
   "metadata": {},
   "source": [
    "Create projection vector:"
   ]
  },
  {
   "cell_type": "code",
   "execution_count": 30,
   "metadata": {},
   "outputs": [],
   "source": [
    "W = np.hstack((coefficients[:,0].reshape(n_features,1), coefficients[:,1].reshape(n_features,1)))"
   ]
  },
  {
   "cell_type": "code",
   "execution_count": 31,
   "metadata": {},
   "outputs": [
    {
     "name": "stdout",
     "output_type": "stream",
     "text": [
      "(752, 2)\n"
     ]
    }
   ],
   "source": [
    "train_proj_d_2 = projection_real[:, :2]\n",
    "print(train_proj_d_2.shape)"
   ]
  },
  {
   "cell_type": "code",
   "execution_count": 32,
   "metadata": {},
   "outputs": [],
   "source": [
    "clf = svm.SVC(kernel='rbf', gamma='auto')\n",
    "# clf = DecisionTreeClassifier()\n",
    "# clf = MLPClassifier(alpha=1)"
   ]
  },
  {
   "cell_type": "code",
   "execution_count": 33,
   "metadata": {},
   "outputs": [
    {
     "data": {
      "text/plain": [
       "SVC(C=1.0, cache_size=200, class_weight=None, coef0=0.0,\n",
       "  decision_function_shape='ovr', degree=3, gamma='auto', kernel='rbf',\n",
       "  max_iter=-1, probability=False, random_state=None, shrinking=True,\n",
       "  tol=0.001, verbose=False)"
      ]
     },
     "execution_count": 33,
     "metadata": {},
     "output_type": "execute_result"
    }
   ],
   "source": [
    "clf.fit(train_proj_d_2, train_label)"
   ]
  },
  {
   "cell_type": "markdown",
   "metadata": {},
   "source": [
    "## Plot the decision boundaries"
   ]
  },
  {
   "cell_type": "code",
   "execution_count": 34,
   "metadata": {},
   "outputs": [],
   "source": [
    "def create_surface_plot(clf, data, labels, colormap_schema='coolwarm', labels_axis=['LDA1', 'LDA2'], steps=0.02, class_names=''):\n",
    "    \"\"\"\n",
    "    With help from: https://scikit-learn.org/stable/auto_examples/ensemble/plot_voting_decision_regions.html\n",
    "    Plot the data points and the decision boundaries for a classifier.\n",
    "    Plots are created with 2 dimensions, even when data contains more than 2.\n",
    "    \n",
    "    Parameters\n",
    "    ----------\n",
    "    clf: a classifier\n",
    "    data: Row-wise observations, used for plotting and for creating a meshgrid for the 2 dimensions.\n",
    "    labels: the class labels for each observation in data.\n",
    "    colormap_schema: color map used for the plot\n",
    "    steps: spacing between the values in the meshgrid\n",
    "    class_names: used for the legend of the plot\n",
    "    \"\"\"\n",
    "    \n",
    "    # arrays from which the meshgrid will be created\n",
    "    x = data[:,0]\n",
    "    y = data[:,1]\n",
    "    \n",
    "    # possible classes without duplicates\n",
    "    classes = list(set(labels))\n",
    "    n_classes = len(classes)\n",
    "    # color map used for the plotting and amount of different colors\n",
    "    cm = plt.cm.get_cmap(colormap_schema, n_classes)\n",
    "    \n",
    "    # min and max values of the data for both axis\n",
    "    # -1/+1 to have more space in each direction and to so clearly the data\n",
    "    x_min = x.min() - 1\n",
    "    x_max = x.max() + 1\n",
    "    y_min = y.min() - 1\n",
    "    y_max = y.max() + 1\n",
    "    \n",
    "    # create meshgrid\n",
    "    xx, yy = np.meshgrid(np.arange(x_min, x_max, steps),\n",
    "                         np.arange(y_min, y_max, steps))\n",
    "    \n",
    "    # prediction for each point in the meshgrid\n",
    "    Z = clf.predict(np.c_[xx.ravel(), yy.ravel()])\n",
    "    # reshape for the grid\n",
    "    Z = Z.reshape(xx.shape)\n",
    "    \n",
    "    # create figure and plot the data and the predictions for each point\n",
    "    # in the grid\n",
    "    plt.figure()\n",
    "    # contour plot\n",
    "    plt.contourf(xx, yy, Z, cmap=plt.cm.get_cmap(colormap_schema), alpha=0.6)\n",
    "    \n",
    "    # plot the data and color the points corresponding to their classes\n",
    "    for i in range(n_classes):\n",
    "        curr_class_data = data[np.where(labels==classes[i])[0].tolist()]\n",
    "        plt.scatter(curr_class_data[:,0], curr_class_data[:,1], c=cm(i), label=class_names[i])\n",
    "    plt.xlabel(labels_axis[0])\n",
    "    plt.ylabel(labels_axis[1])\n",
    "    plt.legend()\n",
    "    plt.show()"
   ]
  },
  {
   "cell_type": "markdown",
   "metadata": {},
   "source": [
    "Try to predict the labels from the training set."
   ]
  },
  {
   "cell_type": "code",
   "execution_count": 35,
   "metadata": {},
   "outputs": [],
   "source": [
    "preds_train = clf.predict(train_proj_d_2)"
   ]
  },
  {
   "cell_type": "code",
   "execution_count": 36,
   "metadata": {},
   "outputs": [
    {
     "name": "stdout",
     "output_type": "stream",
     "text": [
      "Pred. labels are equal to train labels in 576 cases.\n"
     ]
    }
   ],
   "source": [
    "print(\"Pred. labels are equal to train labels in {} cases.\".format(len(np.where(train_label==preds_train)[0])))"
   ]
  },
  {
   "cell_type": "markdown",
   "metadata": {},
   "source": [
    "### Plot the decision boundaries of the training data"
   ]
  },
  {
   "cell_type": "code",
   "execution_count": 37,
   "metadata": {},
   "outputs": [
    {
     "name": "stderr",
     "output_type": "stream",
     "text": [
      "'c' argument looks like a single numeric RGB or RGBA sequence, which should be avoided as value-mapping will have precedence in case its length matches with 'x' & 'y'.  Please use a 2-D array with a single row if you really want to specify the same RGB or RGBA value for all points.\n",
      "'c' argument looks like a single numeric RGB or RGBA sequence, which should be avoided as value-mapping will have precedence in case its length matches with 'x' & 'y'.  Please use a 2-D array with a single row if you really want to specify the same RGB or RGBA value for all points.\n",
      "'c' argument looks like a single numeric RGB or RGBA sequence, which should be avoided as value-mapping will have precedence in case its length matches with 'x' & 'y'.  Please use a 2-D array with a single row if you really want to specify the same RGB or RGBA value for all points.\n",
      "'c' argument looks like a single numeric RGB or RGBA sequence, which should be avoided as value-mapping will have precedence in case its length matches with 'x' & 'y'.  Please use a 2-D array with a single row if you really want to specify the same RGB or RGBA value for all points.\n"
     ]
    },
    {
     "data": {
      "image/png": "[encoded data removed]",
      "text/plain": [
       "<Figure size 864x576 with 1 Axes>"
      ]
     },
     "metadata": {
      "needs_background": "light"
     },
     "output_type": "display_data"
    }
   ],
   "source": [
    "create_surface_plot(clf, train_proj_d_2, train_label, steps=0.02, class_names=class_names)"
   ]
  },
  {
   "cell_type": "code",
   "execution_count": 38,
   "metadata": {},
   "outputs": [],
   "source": [
    "cm_train = confusion_matrix(train_label, preds_train)"
   ]
  },
  {
   "cell_type": "code",
   "execution_count": 39,
   "metadata": {},
   "outputs": [
    {
     "data": {
      "image/png": "[encoded data removed]",
      "text/plain": [
       "<Figure size 864x576 with 2 Axes>"
      ]
     },
     "metadata": {
      "needs_background": "light"
     },
     "output_type": "display_data"
    }
   ],
   "source": [
    "sns.heatmap(cm_train, xticklabels=class_names, yticklabels=class_names)\n",
    "plt.show()"
   ]
  },
  {
   "cell_type": "markdown",
   "metadata": {},
   "source": [
    "The contour plot shows that the classifier isn't sure about data from OPEL or SAAB. The confusion matrix approves the assumption and explains why the contour plot looks like it does. "
   ]
  },
  {
   "cell_type": "markdown",
   "metadata": {},
   "source": [
    "## Test Phase"
   ]
  },
  {
   "cell_type": "markdown",
   "metadata": {},
   "source": [
    "Test data already loaded above."
   ]
  },
  {
   "cell_type": "markdown",
   "metadata": {},
   "source": [
    "### Projection of the test data to the dimensional reduced space"
   ]
  },
  {
   "cell_type": "code",
   "execution_count": 40,
   "metadata": {},
   "outputs": [
    {
     "name": "stdout",
     "output_type": "stream",
     "text": [
      "(94, 2)\n"
     ]
    }
   ],
   "source": [
    "proj_test = np.matmul(test_data, W)\n",
    "# adding up real and imaginary part \n",
    "test_proj_d_2 = complex_projection_to_real(proj_test)\n",
    "print(test_proj_d_2.shape)"
   ]
  },
  {
   "cell_type": "markdown",
   "metadata": {},
   "source": [
    "### Predict labels of the test data"
   ]
  },
  {
   "cell_type": "code",
   "execution_count": 41,
   "metadata": {},
   "outputs": [],
   "source": [
    "# predict classes of the test data\n",
    "preds = clf.predict(test_proj_d_2)"
   ]
  },
  {
   "cell_type": "code",
   "execution_count": 42,
   "metadata": {},
   "outputs": [
    {
     "name": "stdout",
     "output_type": "stream",
     "text": [
      "Pred. labels are equal to test labels in 71 cases.\n"
     ]
    }
   ],
   "source": [
    "print(\"Pred. labels are equal to test labels in {} cases.\".format(len(np.where(test_label==preds)[0])))"
   ]
  },
  {
   "cell_type": "markdown",
   "metadata": {},
   "source": [
    "### Create confusen matrix"
   ]
  },
  {
   "cell_type": "code",
   "execution_count": 43,
   "metadata": {},
   "outputs": [],
   "source": [
    "cm_test = confusion_matrix(test_label, preds)"
   ]
  },
  {
   "cell_type": "code",
   "execution_count": 44,
   "metadata": {},
   "outputs": [
    {
     "data": {
      "image/png": "[encoded data removed]",
      "text/plain": [
       "<Figure size 864x576 with 2 Axes>"
      ]
     },
     "metadata": {
      "needs_background": "light"
     },
     "output_type": "display_data"
    }
   ],
   "source": [
    "# plt.imshow(cm, cmap='hot')\n",
    "sns.heatmap(cm_test, xticklabels=class_names, yticklabels=class_names)\n",
    "plt.show()"
   ]
  },
  {
   "cell_type": "markdown",
   "metadata": {},
   "source": [
    "### Plot of decision surfaces and test data"
   ]
  },
  {
   "cell_type": "code",
   "execution_count": 45,
   "metadata": {},
   "outputs": [
    {
     "name": "stderr",
     "output_type": "stream",
     "text": [
      "'c' argument looks like a single numeric RGB or RGBA sequence, which should be avoided as value-mapping will have precedence in case its length matches with 'x' & 'y'.  Please use a 2-D array with a single row if you really want to specify the same RGB or RGBA value for all points.\n",
      "'c' argument looks like a single numeric RGB or RGBA sequence, which should be avoided as value-mapping will have precedence in case its length matches with 'x' & 'y'.  Please use a 2-D array with a single row if you really want to specify the same RGB or RGBA value for all points.\n",
      "'c' argument looks like a single numeric RGB or RGBA sequence, which should be avoided as value-mapping will have precedence in case its length matches with 'x' & 'y'.  Please use a 2-D array with a single row if you really want to specify the same RGB or RGBA value for all points.\n",
      "'c' argument looks like a single numeric RGB or RGBA sequence, which should be avoided as value-mapping will have precedence in case its length matches with 'x' & 'y'.  Please use a 2-D array with a single row if you really want to specify the same RGB or RGBA value for all points.\n"
     ]
    },
    {
     "data": {
      "image/png": "[encoded data removed]",
      "text/plain": [
       "<Figure size 864x576 with 1 Axes>"
      ]
     },
     "metadata": {
      "needs_background": "light"
     },
     "output_type": "display_data"
    }
   ],
   "source": [
    "create_surface_plot(clf, test_proj_d_2, test_label, steps=0.02, class_names=class_names)"
   ]
  },
  {
   "cell_type": "markdown",
   "metadata": {},
   "source": [
    "The data set is not clearly separable in the case we process it. Class boundaries are overlapping, so it doesn't matter how good our classifier works if the data ist not preprocessed in a good way. "
   ]
  }
 ],
 "metadata": {
  "kernelspec": {
   "display_name": "Python 3",
   "language": "python",
   "name": "python3"
  },
  "language_info": {
   "codemirror_mode": {
    "name": "ipython",
    "version": 3
   },
   "file_extension": ".py",
   "mimetype": "text/x-python",
   "name": "python",
   "nbconvert_exporter": "python",
   "pygments_lexer": "ipython3",
   "version": "3.6.7"
  }
 },
 "nbformat": 4,
 "nbformat_minor": 2
}
